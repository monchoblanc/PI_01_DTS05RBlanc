{
 "cells": [
  {
   "cell_type": "code",
   "execution_count": 1,
   "metadata": {},
   "outputs": [],
   "source": [
    "#librerias a utilizar:\n",
    "import pandas as pd"
   ]
  },
  {
   "cell_type": "markdown",
   "metadata": {},
   "source": [
    "CARGO los datasets como dataframes:\n",
    "#VER luego si uso REQUEST para cargarlos desde link/url. (o funcion de pd para eso.). En tal caso cambia esta linea y el origen. "
   ]
  },
  {
   "cell_type": "code",
   "execution_count": 4,
   "metadata": {},
   "outputs": [],
   "source": [
    "#AMAZON:\n",
    "#amazon_df=pd.read_csv('/Users/moncho/Desktop/Henry2/PI_01/PI01_DATA05/Datasets/amazon_prime_titles.csv')  #absolute path\n",
    "amazon_df=pd.read_csv('Datasets/amazon_prime_titles.csv') #con relative path"
   ]
  },
  {
   "cell_type": "code",
   "execution_count": 5,
   "metadata": {},
   "outputs": [
    {
     "data": {
      "text/html": [
       "<div>\n",
       "<style scoped>\n",
       "    .dataframe tbody tr th:only-of-type {\n",
       "        vertical-align: middle;\n",
       "    }\n",
       "\n",
       "    .dataframe tbody tr th {\n",
       "        vertical-align: top;\n",
       "    }\n",
       "\n",
       "    .dataframe thead th {\n",
       "        text-align: right;\n",
       "    }\n",
       "</style>\n",
       "<table border=\"1\" class=\"dataframe\">\n",
       "  <thead>\n",
       "    <tr style=\"text-align: right;\">\n",
       "      <th></th>\n",
       "      <th>show_id</th>\n",
       "      <th>type</th>\n",
       "      <th>title</th>\n",
       "      <th>director</th>\n",
       "      <th>cast</th>\n",
       "      <th>country</th>\n",
       "      <th>date_added</th>\n",
       "      <th>release_year</th>\n",
       "      <th>rating</th>\n",
       "      <th>duration</th>\n",
       "      <th>listed_in</th>\n",
       "      <th>description</th>\n",
       "    </tr>\n",
       "  </thead>\n",
       "  <tbody>\n",
       "    <tr>\n",
       "      <th>0</th>\n",
       "      <td>s1</td>\n",
       "      <td>Movie</td>\n",
       "      <td>The Grand Seduction</td>\n",
       "      <td>Don McKellar</td>\n",
       "      <td>Brendan Gleeson, Taylor Kitsch, Gordon Pinsent</td>\n",
       "      <td>Canada</td>\n",
       "      <td>March 30, 2021</td>\n",
       "      <td>2014</td>\n",
       "      <td>NaN</td>\n",
       "      <td>113 min</td>\n",
       "      <td>Comedy, Drama</td>\n",
       "      <td>A small fishing village must procure a local d...</td>\n",
       "    </tr>\n",
       "    <tr>\n",
       "      <th>1</th>\n",
       "      <td>s2</td>\n",
       "      <td>Movie</td>\n",
       "      <td>Take Care Good Night</td>\n",
       "      <td>Girish Joshi</td>\n",
       "      <td>Mahesh Manjrekar, Abhay Mahajan, Sachin Khedekar</td>\n",
       "      <td>India</td>\n",
       "      <td>March 30, 2021</td>\n",
       "      <td>2018</td>\n",
       "      <td>13+</td>\n",
       "      <td>110 min</td>\n",
       "      <td>Drama, International</td>\n",
       "      <td>A Metro Family decides to fight a Cyber Crimin...</td>\n",
       "    </tr>\n",
       "    <tr>\n",
       "      <th>2</th>\n",
       "      <td>s3</td>\n",
       "      <td>Movie</td>\n",
       "      <td>Secrets of Deception</td>\n",
       "      <td>Josh Webber</td>\n",
       "      <td>Tom Sizemore, Lorenzo Lamas, Robert LaSardo, R...</td>\n",
       "      <td>United States</td>\n",
       "      <td>March 30, 2021</td>\n",
       "      <td>2017</td>\n",
       "      <td>NaN</td>\n",
       "      <td>74 min</td>\n",
       "      <td>Action, Drama, Suspense</td>\n",
       "      <td>After a man discovers his wife is cheating on ...</td>\n",
       "    </tr>\n",
       "    <tr>\n",
       "      <th>3</th>\n",
       "      <td>s4</td>\n",
       "      <td>Movie</td>\n",
       "      <td>Pink: Staying True</td>\n",
       "      <td>Sonia Anderson</td>\n",
       "      <td>Interviews with: Pink, Adele, Beyoncé, Britney...</td>\n",
       "      <td>United States</td>\n",
       "      <td>March 30, 2021</td>\n",
       "      <td>2014</td>\n",
       "      <td>NaN</td>\n",
       "      <td>69 min</td>\n",
       "      <td>Documentary</td>\n",
       "      <td>Pink breaks the mold once again, bringing her ...</td>\n",
       "    </tr>\n",
       "    <tr>\n",
       "      <th>4</th>\n",
       "      <td>s5</td>\n",
       "      <td>Movie</td>\n",
       "      <td>Monster Maker</td>\n",
       "      <td>Giles Foster</td>\n",
       "      <td>Harry Dean Stanton, Kieran O'Brien, George Cos...</td>\n",
       "      <td>United Kingdom</td>\n",
       "      <td>March 30, 2021</td>\n",
       "      <td>1989</td>\n",
       "      <td>NaN</td>\n",
       "      <td>45 min</td>\n",
       "      <td>Drama, Fantasy</td>\n",
       "      <td>Teenage Matt Banting wants to work with a famo...</td>\n",
       "    </tr>\n",
       "  </tbody>\n",
       "</table>\n",
       "</div>"
      ],
      "text/plain": [
       "  show_id   type                 title        director  \\\n",
       "0      s1  Movie   The Grand Seduction    Don McKellar   \n",
       "1      s2  Movie  Take Care Good Night    Girish Joshi   \n",
       "2      s3  Movie  Secrets of Deception     Josh Webber   \n",
       "3      s4  Movie    Pink: Staying True  Sonia Anderson   \n",
       "4      s5  Movie         Monster Maker    Giles Foster   \n",
       "\n",
       "                                                cast         country  \\\n",
       "0     Brendan Gleeson, Taylor Kitsch, Gordon Pinsent          Canada   \n",
       "1   Mahesh Manjrekar, Abhay Mahajan, Sachin Khedekar           India   \n",
       "2  Tom Sizemore, Lorenzo Lamas, Robert LaSardo, R...   United States   \n",
       "3  Interviews with: Pink, Adele, Beyoncé, Britney...   United States   \n",
       "4  Harry Dean Stanton, Kieran O'Brien, George Cos...  United Kingdom   \n",
       "\n",
       "       date_added  release_year rating duration                listed_in  \\\n",
       "0  March 30, 2021          2014    NaN  113 min            Comedy, Drama   \n",
       "1  March 30, 2021          2018    13+  110 min     Drama, International   \n",
       "2  March 30, 2021          2017    NaN   74 min  Action, Drama, Suspense   \n",
       "3  March 30, 2021          2014    NaN   69 min              Documentary   \n",
       "4  March 30, 2021          1989    NaN   45 min           Drama, Fantasy   \n",
       "\n",
       "                                         description  \n",
       "0  A small fishing village must procure a local d...  \n",
       "1  A Metro Family decides to fight a Cyber Crimin...  \n",
       "2  After a man discovers his wife is cheating on ...  \n",
       "3  Pink breaks the mold once again, bringing her ...  \n",
       "4  Teenage Matt Banting wants to work with a famo...  "
      ]
     },
     "execution_count": 5,
     "metadata": {},
     "output_type": "execute_result"
    }
   ],
   "source": [
    "amazon_df.head()"
   ]
  },
  {
   "cell_type": "code",
   "execution_count": 6,
   "metadata": {},
   "outputs": [
    {
     "name": "stdout",
     "output_type": "stream",
     "text": [
      "<class 'pandas.core.frame.DataFrame'>\n",
      "RangeIndex: 9668 entries, 0 to 9667\n",
      "Data columns (total 12 columns):\n",
      " #   Column        Non-Null Count  Dtype \n",
      "---  ------        --------------  ----- \n",
      " 0   show_id       9668 non-null   object\n",
      " 1   type          9668 non-null   object\n",
      " 2   title         9668 non-null   object\n",
      " 3   director      7586 non-null   object\n",
      " 4   cast          8435 non-null   object\n",
      " 5   country       672 non-null    object\n",
      " 6   date_added    155 non-null    object\n",
      " 7   release_year  9668 non-null   int64 \n",
      " 8   rating        9331 non-null   object\n",
      " 9   duration      9668 non-null   object\n",
      " 10  listed_in     9668 non-null   object\n",
      " 11  description   9668 non-null   object\n",
      "dtypes: int64(1), object(11)\n",
      "memory usage: 906.5+ KB\n"
     ]
    }
   ],
   "source": [
    "amazon_df.info()"
   ]
  },
  {
   "cell_type": "code",
   "execution_count": 7,
   "metadata": {},
   "outputs": [],
   "source": [
    "#DISNEY:\n",
    "#disney_df=pd.read_csv('/Users/moncho/Desktop/Henry2/PI_01/PI01_DATA05/Datasets/disney_plus_titles.csv')\n",
    "disney_df=pd.read_csv('Datasets/disney_plus_titles.csv')"
   ]
  },
  {
   "cell_type": "code",
   "execution_count": 8,
   "metadata": {},
   "outputs": [
    {
     "data": {
      "text/html": [
       "<div>\n",
       "<style scoped>\n",
       "    .dataframe tbody tr th:only-of-type {\n",
       "        vertical-align: middle;\n",
       "    }\n",
       "\n",
       "    .dataframe tbody tr th {\n",
       "        vertical-align: top;\n",
       "    }\n",
       "\n",
       "    .dataframe thead th {\n",
       "        text-align: right;\n",
       "    }\n",
       "</style>\n",
       "<table border=\"1\" class=\"dataframe\">\n",
       "  <thead>\n",
       "    <tr style=\"text-align: right;\">\n",
       "      <th></th>\n",
       "      <th>show_id</th>\n",
       "      <th>type</th>\n",
       "      <th>title</th>\n",
       "      <th>director</th>\n",
       "      <th>cast</th>\n",
       "      <th>country</th>\n",
       "      <th>date_added</th>\n",
       "      <th>release_year</th>\n",
       "      <th>rating</th>\n",
       "      <th>duration</th>\n",
       "      <th>listed_in</th>\n",
       "      <th>description</th>\n",
       "    </tr>\n",
       "  </thead>\n",
       "  <tbody>\n",
       "    <tr>\n",
       "      <th>0</th>\n",
       "      <td>s1</td>\n",
       "      <td>Movie</td>\n",
       "      <td>Duck the Halls: A Mickey Mouse Christmas Special</td>\n",
       "      <td>Alonso Ramirez Ramos, Dave Wasson</td>\n",
       "      <td>Chris Diamantopoulos, Tony Anselmo, Tress MacN...</td>\n",
       "      <td>NaN</td>\n",
       "      <td>November 26, 2021</td>\n",
       "      <td>2016</td>\n",
       "      <td>TV-G</td>\n",
       "      <td>23 min</td>\n",
       "      <td>Animation, Family</td>\n",
       "      <td>Join Mickey and the gang as they duck the halls!</td>\n",
       "    </tr>\n",
       "    <tr>\n",
       "      <th>1</th>\n",
       "      <td>s2</td>\n",
       "      <td>Movie</td>\n",
       "      <td>Ernest Saves Christmas</td>\n",
       "      <td>John Cherry</td>\n",
       "      <td>Jim Varney, Noelle Parker, Douglas Seale</td>\n",
       "      <td>NaN</td>\n",
       "      <td>November 26, 2021</td>\n",
       "      <td>1988</td>\n",
       "      <td>PG</td>\n",
       "      <td>91 min</td>\n",
       "      <td>Comedy</td>\n",
       "      <td>Santa Claus passes his magic bag to a new St. ...</td>\n",
       "    </tr>\n",
       "    <tr>\n",
       "      <th>2</th>\n",
       "      <td>s3</td>\n",
       "      <td>Movie</td>\n",
       "      <td>Ice Age: A Mammoth Christmas</td>\n",
       "      <td>Karen Disher</td>\n",
       "      <td>Raymond Albert Romano, John Leguizamo, Denis L...</td>\n",
       "      <td>United States</td>\n",
       "      <td>November 26, 2021</td>\n",
       "      <td>2011</td>\n",
       "      <td>TV-G</td>\n",
       "      <td>23 min</td>\n",
       "      <td>Animation, Comedy, Family</td>\n",
       "      <td>Sid the Sloth is on Santa's naughty list.</td>\n",
       "    </tr>\n",
       "    <tr>\n",
       "      <th>3</th>\n",
       "      <td>s4</td>\n",
       "      <td>Movie</td>\n",
       "      <td>The Queen Family Singalong</td>\n",
       "      <td>Hamish Hamilton</td>\n",
       "      <td>Darren Criss, Adam Lambert, Derek Hough, Alexa...</td>\n",
       "      <td>NaN</td>\n",
       "      <td>November 26, 2021</td>\n",
       "      <td>2021</td>\n",
       "      <td>TV-PG</td>\n",
       "      <td>41 min</td>\n",
       "      <td>Musical</td>\n",
       "      <td>This is real life, not just fantasy!</td>\n",
       "    </tr>\n",
       "    <tr>\n",
       "      <th>4</th>\n",
       "      <td>s5</td>\n",
       "      <td>TV Show</td>\n",
       "      <td>The Beatles: Get Back</td>\n",
       "      <td>NaN</td>\n",
       "      <td>John Lennon, Paul McCartney, George Harrison, ...</td>\n",
       "      <td>NaN</td>\n",
       "      <td>November 25, 2021</td>\n",
       "      <td>2021</td>\n",
       "      <td>NaN</td>\n",
       "      <td>1 Season</td>\n",
       "      <td>Docuseries, Historical, Music</td>\n",
       "      <td>A three-part documentary from Peter Jackson ca...</td>\n",
       "    </tr>\n",
       "  </tbody>\n",
       "</table>\n",
       "</div>"
      ],
      "text/plain": [
       "  show_id     type                                             title  \\\n",
       "0      s1    Movie  Duck the Halls: A Mickey Mouse Christmas Special   \n",
       "1      s2    Movie                            Ernest Saves Christmas   \n",
       "2      s3    Movie                      Ice Age: A Mammoth Christmas   \n",
       "3      s4    Movie                        The Queen Family Singalong   \n",
       "4      s5  TV Show                             The Beatles: Get Back   \n",
       "\n",
       "                            director  \\\n",
       "0  Alonso Ramirez Ramos, Dave Wasson   \n",
       "1                        John Cherry   \n",
       "2                       Karen Disher   \n",
       "3                    Hamish Hamilton   \n",
       "4                                NaN   \n",
       "\n",
       "                                                cast        country  \\\n",
       "0  Chris Diamantopoulos, Tony Anselmo, Tress MacN...            NaN   \n",
       "1           Jim Varney, Noelle Parker, Douglas Seale            NaN   \n",
       "2  Raymond Albert Romano, John Leguizamo, Denis L...  United States   \n",
       "3  Darren Criss, Adam Lambert, Derek Hough, Alexa...            NaN   \n",
       "4  John Lennon, Paul McCartney, George Harrison, ...            NaN   \n",
       "\n",
       "          date_added  release_year rating  duration  \\\n",
       "0  November 26, 2021          2016   TV-G    23 min   \n",
       "1  November 26, 2021          1988     PG    91 min   \n",
       "2  November 26, 2021          2011   TV-G    23 min   \n",
       "3  November 26, 2021          2021  TV-PG    41 min   \n",
       "4  November 25, 2021          2021    NaN  1 Season   \n",
       "\n",
       "                       listed_in  \\\n",
       "0              Animation, Family   \n",
       "1                         Comedy   \n",
       "2      Animation, Comedy, Family   \n",
       "3                        Musical   \n",
       "4  Docuseries, Historical, Music   \n",
       "\n",
       "                                         description  \n",
       "0   Join Mickey and the gang as they duck the halls!  \n",
       "1  Santa Claus passes his magic bag to a new St. ...  \n",
       "2          Sid the Sloth is on Santa's naughty list.  \n",
       "3               This is real life, not just fantasy!  \n",
       "4  A three-part documentary from Peter Jackson ca...  "
      ]
     },
     "execution_count": 8,
     "metadata": {},
     "output_type": "execute_result"
    }
   ],
   "source": [
    "disney_df.head()"
   ]
  },
  {
   "cell_type": "code",
   "execution_count": 9,
   "metadata": {},
   "outputs": [
    {
     "data": {
      "text/plain": [
       "array([ True,  True,  True,  True,  True,  True,  True,  True,  True,\n",
       "        True,  True,  True])"
      ]
     },
     "execution_count": 9,
     "metadata": {},
     "output_type": "execute_result"
    }
   ],
   "source": [
    "#checkeo a ver si tienen las mismas columnas:\n",
    "disney_df.columns==amazon_df.columns"
   ]
  },
  {
   "cell_type": "code",
   "execution_count": 10,
   "metadata": {},
   "outputs": [
    {
     "name": "stdout",
     "output_type": "stream",
     "text": [
      "<class 'pandas.core.frame.DataFrame'>\n",
      "RangeIndex: 1450 entries, 0 to 1449\n",
      "Data columns (total 12 columns):\n",
      " #   Column        Non-Null Count  Dtype \n",
      "---  ------        --------------  ----- \n",
      " 0   show_id       1450 non-null   object\n",
      " 1   type          1450 non-null   object\n",
      " 2   title         1450 non-null   object\n",
      " 3   director      977 non-null    object\n",
      " 4   cast          1260 non-null   object\n",
      " 5   country       1231 non-null   object\n",
      " 6   date_added    1447 non-null   object\n",
      " 7   release_year  1450 non-null   int64 \n",
      " 8   rating        1447 non-null   object\n",
      " 9   duration      1450 non-null   object\n",
      " 10  listed_in     1450 non-null   object\n",
      " 11  description   1450 non-null   object\n",
      "dtypes: int64(1), object(11)\n",
      "memory usage: 136.1+ KB\n"
     ]
    }
   ],
   "source": [
    "disney_df.info()"
   ]
  },
  {
   "cell_type": "code",
   "execution_count": 11,
   "metadata": {},
   "outputs": [],
   "source": [
    "#HULU\n",
    "#hulu_df=pd.read_csv('/Users/moncho/Desktop/Henry2/PI_01/PI01_DATA05/Datasets/hulu_titles.csv')\n",
    "hulu_df=pd.read_csv('Datasets/hulu_titles.csv')"
   ]
  },
  {
   "cell_type": "code",
   "execution_count": 12,
   "metadata": {},
   "outputs": [
    {
     "data": {
      "text/html": [
       "<div>\n",
       "<style scoped>\n",
       "    .dataframe tbody tr th:only-of-type {\n",
       "        vertical-align: middle;\n",
       "    }\n",
       "\n",
       "    .dataframe tbody tr th {\n",
       "        vertical-align: top;\n",
       "    }\n",
       "\n",
       "    .dataframe thead th {\n",
       "        text-align: right;\n",
       "    }\n",
       "</style>\n",
       "<table border=\"1\" class=\"dataframe\">\n",
       "  <thead>\n",
       "    <tr style=\"text-align: right;\">\n",
       "      <th></th>\n",
       "      <th>show_id</th>\n",
       "      <th>type</th>\n",
       "      <th>title</th>\n",
       "      <th>director</th>\n",
       "      <th>cast</th>\n",
       "      <th>country</th>\n",
       "      <th>date_added</th>\n",
       "      <th>release_year</th>\n",
       "      <th>rating</th>\n",
       "      <th>duration</th>\n",
       "      <th>listed_in</th>\n",
       "      <th>description</th>\n",
       "    </tr>\n",
       "  </thead>\n",
       "  <tbody>\n",
       "    <tr>\n",
       "      <th>0</th>\n",
       "      <td>s1</td>\n",
       "      <td>Movie</td>\n",
       "      <td>Ricky Velez: Here's Everything</td>\n",
       "      <td>NaN</td>\n",
       "      <td>NaN</td>\n",
       "      <td>NaN</td>\n",
       "      <td>October 24, 2021</td>\n",
       "      <td>2021</td>\n",
       "      <td>TV-MA</td>\n",
       "      <td>NaN</td>\n",
       "      <td>Comedy, Stand Up</td>\n",
       "      <td>​Comedian Ricky Velez bares it all with his ho...</td>\n",
       "    </tr>\n",
       "    <tr>\n",
       "      <th>1</th>\n",
       "      <td>s2</td>\n",
       "      <td>Movie</td>\n",
       "      <td>Silent Night</td>\n",
       "      <td>NaN</td>\n",
       "      <td>NaN</td>\n",
       "      <td>NaN</td>\n",
       "      <td>October 23, 2021</td>\n",
       "      <td>2020</td>\n",
       "      <td>NaN</td>\n",
       "      <td>94 min</td>\n",
       "      <td>Crime, Drama, Thriller</td>\n",
       "      <td>Mark, a low end South London hitman recently r...</td>\n",
       "    </tr>\n",
       "    <tr>\n",
       "      <th>2</th>\n",
       "      <td>s3</td>\n",
       "      <td>Movie</td>\n",
       "      <td>The Marksman</td>\n",
       "      <td>NaN</td>\n",
       "      <td>NaN</td>\n",
       "      <td>NaN</td>\n",
       "      <td>October 23, 2021</td>\n",
       "      <td>2021</td>\n",
       "      <td>PG-13</td>\n",
       "      <td>108 min</td>\n",
       "      <td>Action, Thriller</td>\n",
       "      <td>A hardened Arizona rancher tries to protect an...</td>\n",
       "    </tr>\n",
       "    <tr>\n",
       "      <th>3</th>\n",
       "      <td>s4</td>\n",
       "      <td>Movie</td>\n",
       "      <td>Gaia</td>\n",
       "      <td>NaN</td>\n",
       "      <td>NaN</td>\n",
       "      <td>NaN</td>\n",
       "      <td>October 22, 2021</td>\n",
       "      <td>2021</td>\n",
       "      <td>R</td>\n",
       "      <td>97 min</td>\n",
       "      <td>Horror</td>\n",
       "      <td>A forest ranger and two survivalists with a cu...</td>\n",
       "    </tr>\n",
       "    <tr>\n",
       "      <th>4</th>\n",
       "      <td>s5</td>\n",
       "      <td>Movie</td>\n",
       "      <td>Settlers</td>\n",
       "      <td>NaN</td>\n",
       "      <td>NaN</td>\n",
       "      <td>NaN</td>\n",
       "      <td>October 22, 2021</td>\n",
       "      <td>2021</td>\n",
       "      <td>NaN</td>\n",
       "      <td>104 min</td>\n",
       "      <td>Science Fiction, Thriller</td>\n",
       "      <td>Mankind's earliest settlers on the Martian fro...</td>\n",
       "    </tr>\n",
       "  </tbody>\n",
       "</table>\n",
       "</div>"
      ],
      "text/plain": [
       "  show_id   type                           title director  cast country  \\\n",
       "0      s1  Movie  Ricky Velez: Here's Everything      NaN   NaN     NaN   \n",
       "1      s2  Movie                    Silent Night      NaN   NaN     NaN   \n",
       "2      s3  Movie                    The Marksman      NaN   NaN     NaN   \n",
       "3      s4  Movie                            Gaia      NaN   NaN     NaN   \n",
       "4      s5  Movie                        Settlers      NaN   NaN     NaN   \n",
       "\n",
       "         date_added  release_year rating duration                  listed_in  \\\n",
       "0  October 24, 2021          2021  TV-MA      NaN           Comedy, Stand Up   \n",
       "1  October 23, 2021          2020    NaN   94 min     Crime, Drama, Thriller   \n",
       "2  October 23, 2021          2021  PG-13  108 min           Action, Thriller   \n",
       "3  October 22, 2021          2021      R   97 min                     Horror   \n",
       "4  October 22, 2021          2021    NaN  104 min  Science Fiction, Thriller   \n",
       "\n",
       "                                         description  \n",
       "0  ​Comedian Ricky Velez bares it all with his ho...  \n",
       "1  Mark, a low end South London hitman recently r...  \n",
       "2  A hardened Arizona rancher tries to protect an...  \n",
       "3  A forest ranger and two survivalists with a cu...  \n",
       "4  Mankind's earliest settlers on the Martian fro...  "
      ]
     },
     "execution_count": 12,
     "metadata": {},
     "output_type": "execute_result"
    }
   ],
   "source": [
    "hulu_df.head()"
   ]
  },
  {
   "cell_type": "code",
   "execution_count": 13,
   "metadata": {},
   "outputs": [
    {
     "data": {
      "text/plain": [
       "array([ True,  True,  True,  True,  True,  True,  True,  True,  True,\n",
       "        True,  True,  True])"
      ]
     },
     "execution_count": 13,
     "metadata": {},
     "output_type": "execute_result"
    }
   ],
   "source": [
    "disney_df.columns==hulu_df.columns"
   ]
  },
  {
   "cell_type": "code",
   "execution_count": 14,
   "metadata": {},
   "outputs": [
    {
     "name": "stdout",
     "output_type": "stream",
     "text": [
      "<class 'pandas.core.frame.DataFrame'>\n",
      "RangeIndex: 3073 entries, 0 to 3072\n",
      "Data columns (total 12 columns):\n",
      " #   Column        Non-Null Count  Dtype  \n",
      "---  ------        --------------  -----  \n",
      " 0   show_id       3073 non-null   object \n",
      " 1   type          3073 non-null   object \n",
      " 2   title         3073 non-null   object \n",
      " 3   director      3 non-null      object \n",
      " 4   cast          0 non-null      float64\n",
      " 5   country       1620 non-null   object \n",
      " 6   date_added    3045 non-null   object \n",
      " 7   release_year  3073 non-null   int64  \n",
      " 8   rating        2553 non-null   object \n",
      " 9   duration      2594 non-null   object \n",
      " 10  listed_in     3073 non-null   object \n",
      " 11  description   3069 non-null   object \n",
      "dtypes: float64(1), int64(1), object(10)\n",
      "memory usage: 288.2+ KB\n"
     ]
    }
   ],
   "source": [
    "hulu_df.info()"
   ]
  },
  {
   "cell_type": "code",
   "execution_count": 15,
   "metadata": {},
   "outputs": [],
   "source": [
    "#NETFLIX:\n",
    "#netflix_df=pd.read_json('/Users/moncho/Desktop/Henry2/PI_01/PI01_DATA05/Datasets/netflix_titles.json')\n",
    "netflix_df=pd.read_json('Datasets/netflix_titles.json')"
   ]
  },
  {
   "cell_type": "code",
   "execution_count": 16,
   "metadata": {},
   "outputs": [
    {
     "data": {
      "text/html": [
       "<div>\n",
       "<style scoped>\n",
       "    .dataframe tbody tr th:only-of-type {\n",
       "        vertical-align: middle;\n",
       "    }\n",
       "\n",
       "    .dataframe tbody tr th {\n",
       "        vertical-align: top;\n",
       "    }\n",
       "\n",
       "    .dataframe thead th {\n",
       "        text-align: right;\n",
       "    }\n",
       "</style>\n",
       "<table border=\"1\" class=\"dataframe\">\n",
       "  <thead>\n",
       "    <tr style=\"text-align: right;\">\n",
       "      <th></th>\n",
       "      <th>show_id</th>\n",
       "      <th>type</th>\n",
       "      <th>title</th>\n",
       "      <th>director</th>\n",
       "      <th>cast</th>\n",
       "      <th>country</th>\n",
       "      <th>date_added</th>\n",
       "      <th>release_year</th>\n",
       "      <th>rating</th>\n",
       "      <th>duration</th>\n",
       "      <th>listed_in</th>\n",
       "      <th>description</th>\n",
       "    </tr>\n",
       "  </thead>\n",
       "  <tbody>\n",
       "    <tr>\n",
       "      <th>0</th>\n",
       "      <td>s1</td>\n",
       "      <td>Movie</td>\n",
       "      <td>Dick Johnson Is Dead</td>\n",
       "      <td>Kirsten Johnson</td>\n",
       "      <td>None</td>\n",
       "      <td>United States</td>\n",
       "      <td>September 25, 2021</td>\n",
       "      <td>2020</td>\n",
       "      <td>PG-13</td>\n",
       "      <td>90 min</td>\n",
       "      <td>Documentaries</td>\n",
       "      <td>As her father nears the end of his life, filmm...</td>\n",
       "    </tr>\n",
       "    <tr>\n",
       "      <th>1</th>\n",
       "      <td>s2</td>\n",
       "      <td>TV Show</td>\n",
       "      <td>Blood &amp; Water</td>\n",
       "      <td>None</td>\n",
       "      <td>Ama Qamata, Khosi Ngema, Gail Mabalane, Thaban...</td>\n",
       "      <td>South Africa</td>\n",
       "      <td>September 24, 2021</td>\n",
       "      <td>2021</td>\n",
       "      <td>TV-MA</td>\n",
       "      <td>2 Seasons</td>\n",
       "      <td>International TV Shows, TV Dramas, TV Mysteries</td>\n",
       "      <td>After crossing paths at a party, a Cape Town t...</td>\n",
       "    </tr>\n",
       "    <tr>\n",
       "      <th>2</th>\n",
       "      <td>s3</td>\n",
       "      <td>TV Show</td>\n",
       "      <td>Ganglands</td>\n",
       "      <td>Julien Leclercq</td>\n",
       "      <td>Sami Bouajila, Tracy Gotoas, Samuel Jouy, Nabi...</td>\n",
       "      <td>None</td>\n",
       "      <td>September 24, 2021</td>\n",
       "      <td>2021</td>\n",
       "      <td>TV-MA</td>\n",
       "      <td>1 Season</td>\n",
       "      <td>Crime TV Shows, International TV Shows, TV Act...</td>\n",
       "      <td>To protect his family from a powerful drug lor...</td>\n",
       "    </tr>\n",
       "    <tr>\n",
       "      <th>3</th>\n",
       "      <td>s4</td>\n",
       "      <td>TV Show</td>\n",
       "      <td>Jailbirds New Orleans</td>\n",
       "      <td>None</td>\n",
       "      <td>None</td>\n",
       "      <td>None</td>\n",
       "      <td>September 24, 2021</td>\n",
       "      <td>2021</td>\n",
       "      <td>TV-MA</td>\n",
       "      <td>1 Season</td>\n",
       "      <td>Docuseries, Reality TV</td>\n",
       "      <td>Feuds, flirtations and toilet talk go down amo...</td>\n",
       "    </tr>\n",
       "    <tr>\n",
       "      <th>4</th>\n",
       "      <td>s5</td>\n",
       "      <td>TV Show</td>\n",
       "      <td>Kota Factory</td>\n",
       "      <td>None</td>\n",
       "      <td>Mayur More, Jitendra Kumar, Ranjan Raj, Alam K...</td>\n",
       "      <td>India</td>\n",
       "      <td>September 24, 2021</td>\n",
       "      <td>2021</td>\n",
       "      <td>TV-MA</td>\n",
       "      <td>2 Seasons</td>\n",
       "      <td>International TV Shows, Romantic TV Shows, TV ...</td>\n",
       "      <td>In a city of coaching centers known to train I...</td>\n",
       "    </tr>\n",
       "  </tbody>\n",
       "</table>\n",
       "</div>"
      ],
      "text/plain": [
       "  show_id     type                  title         director  \\\n",
       "0      s1    Movie   Dick Johnson Is Dead  Kirsten Johnson   \n",
       "1      s2  TV Show          Blood & Water             None   \n",
       "2      s3  TV Show              Ganglands  Julien Leclercq   \n",
       "3      s4  TV Show  Jailbirds New Orleans             None   \n",
       "4      s5  TV Show           Kota Factory             None   \n",
       "\n",
       "                                                cast        country  \\\n",
       "0                                               None  United States   \n",
       "1  Ama Qamata, Khosi Ngema, Gail Mabalane, Thaban...   South Africa   \n",
       "2  Sami Bouajila, Tracy Gotoas, Samuel Jouy, Nabi...           None   \n",
       "3                                               None           None   \n",
       "4  Mayur More, Jitendra Kumar, Ranjan Raj, Alam K...          India   \n",
       "\n",
       "           date_added  release_year rating   duration  \\\n",
       "0  September 25, 2021          2020  PG-13     90 min   \n",
       "1  September 24, 2021          2021  TV-MA  2 Seasons   \n",
       "2  September 24, 2021          2021  TV-MA   1 Season   \n",
       "3  September 24, 2021          2021  TV-MA   1 Season   \n",
       "4  September 24, 2021          2021  TV-MA  2 Seasons   \n",
       "\n",
       "                                           listed_in  \\\n",
       "0                                      Documentaries   \n",
       "1    International TV Shows, TV Dramas, TV Mysteries   \n",
       "2  Crime TV Shows, International TV Shows, TV Act...   \n",
       "3                             Docuseries, Reality TV   \n",
       "4  International TV Shows, Romantic TV Shows, TV ...   \n",
       "\n",
       "                                         description  \n",
       "0  As her father nears the end of his life, filmm...  \n",
       "1  After crossing paths at a party, a Cape Town t...  \n",
       "2  To protect his family from a powerful drug lor...  \n",
       "3  Feuds, flirtations and toilet talk go down amo...  \n",
       "4  In a city of coaching centers known to train I...  "
      ]
     },
     "execution_count": 16,
     "metadata": {},
     "output_type": "execute_result"
    }
   ],
   "source": [
    "netflix_df.head()"
   ]
  },
  {
   "cell_type": "code",
   "execution_count": 17,
   "metadata": {},
   "outputs": [
    {
     "data": {
      "text/plain": [
       "array([ True,  True,  True,  True,  True,  True,  True,  True,  True,\n",
       "        True,  True,  True])"
      ]
     },
     "execution_count": 17,
     "metadata": {},
     "output_type": "execute_result"
    }
   ],
   "source": [
    "disney_df.columns==netflix_df.columns"
   ]
  },
  {
   "cell_type": "code",
   "execution_count": 18,
   "metadata": {},
   "outputs": [
    {
     "name": "stdout",
     "output_type": "stream",
     "text": [
      "<class 'pandas.core.frame.DataFrame'>\n",
      "Int64Index: 8807 entries, 0 to 8806\n",
      "Data columns (total 12 columns):\n",
      " #   Column        Non-Null Count  Dtype \n",
      "---  ------        --------------  ----- \n",
      " 0   show_id       8807 non-null   object\n",
      " 1   type          8807 non-null   object\n",
      " 2   title         8807 non-null   object\n",
      " 3   director      6173 non-null   object\n",
      " 4   cast          7982 non-null   object\n",
      " 5   country       7976 non-null   object\n",
      " 6   date_added    8797 non-null   object\n",
      " 7   release_year  8807 non-null   int64 \n",
      " 8   rating        8803 non-null   object\n",
      " 9   duration      8804 non-null   object\n",
      " 10  listed_in     8807 non-null   object\n",
      " 11  description   8807 non-null   object\n",
      "dtypes: int64(1), object(11)\n",
      "memory usage: 894.5+ KB\n"
     ]
    }
   ],
   "source": [
    "netflix_df.info()"
   ]
  },
  {
   "cell_type": "code",
   "execution_count": 19,
   "metadata": {},
   "outputs": [
    {
     "name": "stdout",
     "output_type": "stream",
     "text": [
      "['s1' 's2' 's3' ... 's9666' 's9667' 's9668']\n",
      "['s1' 's2' 's3' ... 's1448' 's1449' 's1450']\n",
      "['s1' 's2' 's3' ... 's3071' 's3072' 's3073']\n",
      "['s1' 's2' 's3' ... 's8805' 's8806' 's8807']\n"
     ]
    }
   ],
   "source": [
    "#se repiten los id? todos tienen id?\n",
    "print(amazon_df.show_id.unique())\n",
    "print(disney_df.show_id.unique())\n",
    "print(hulu_df.show_id.unique())\n",
    "print(netflix_df.show_id.unique())"
   ]
  },
  {
   "cell_type": "markdown",
   "metadata": {},
   "source": [
    "CONCLUSION del primer approach hasta aca: \n",
    "Todos tienen id unicos (en su df,) pues me da igual cantidad que el shape[0] de cada dataframe. \n",
    "Types: - solo hulu tiene col 'cast' con type=float! IGUALMENTE, SON TODOS NULOS. \n",
    "       - columna 'duration': type object, pero tengo 'min' para movies, 'seasons' para series. VER Q ME CONVIENE, separarlas en cols direfentes y\n",
    "       converirlas a int? Vere mas adelante al definir la funcion que usa esa columna.  \n",
    "\n"
   ]
  },
  {
   "cell_type": "code",
   "execution_count": 20,
   "metadata": {},
   "outputs": [
    {
     "data": {
      "text/plain": [
       "Index(['show_id', 'type', 'title', 'director', 'cast', 'country', 'date_added',\n",
       "       'release_year', 'rating', 'duration', 'listed_in', 'description'],\n",
       "      dtype='object')"
      ]
     },
     "execution_count": 20,
     "metadata": {},
     "output_type": "execute_result"
    }
   ],
   "source": [
    "#de aca saco la lista de columnas, ya se q es la misma para todos.\n",
    "amazon_df.columns"
   ]
  },
  {
   "cell_type": "code",
   "execution_count": 21,
   "metadata": {},
   "outputs": [],
   "source": [
    "#me falta checkear duplicados!!: (los id ya se que no ser repiten.)\n",
    "# y ya que estoy , checkear nulos (salvo id)\n",
    "#columnas salvo 'show_id' y 'platform'(la habia agregado mas abajo):\n",
    "lista=[ 'type', 'title', 'director', 'cast', 'country', 'date_added',\n",
    "       'release_year', 'rating', 'duration', 'listed_in', 'description'] #'show_id','platform'\n",
    "duplicados_amazon=amazon_df.duplicated(subset = lista)\n",
    "#DataFrame.drop_duplicates(subset=None, *, keep='first', inplace=False, ignore_index=False)\n"
   ]
  },
  {
   "cell_type": "code",
   "execution_count": 22,
   "metadata": {},
   "outputs": [
    {
     "data": {
      "text/plain": [
       "array([False])"
      ]
     },
     "execution_count": 22,
     "metadata": {},
     "output_type": "execute_result"
    }
   ],
   "source": [
    "duplicados_amazon.unique() #luego, no tenia duplicados. \n",
    "#es una manera medio extrania de checkearlo pero me sirve. "
   ]
  },
  {
   "cell_type": "code",
   "execution_count": 23,
   "metadata": {},
   "outputs": [
    {
     "data": {
      "text/plain": [
       "array([False])"
      ]
     },
     "execution_count": 23,
     "metadata": {},
     "output_type": "execute_result"
    }
   ],
   "source": [
    "#hago lo mismo para los otros 3 datasets:\n",
    "duplicados_disney=disney_df.duplicated(subset = lista)\n",
    "duplicados_disney.unique()"
   ]
  },
  {
   "cell_type": "code",
   "execution_count": 24,
   "metadata": {},
   "outputs": [
    {
     "data": {
      "text/plain": [
       "array([False])"
      ]
     },
     "execution_count": 24,
     "metadata": {},
     "output_type": "execute_result"
    }
   ],
   "source": [
    "duplicados_hulu=hulu_df.duplicated(subset = lista)\n",
    "duplicados_hulu.unique()"
   ]
  },
  {
   "cell_type": "code",
   "execution_count": 25,
   "metadata": {},
   "outputs": [
    {
     "data": {
      "text/plain": [
       "array([False])"
      ]
     },
     "execution_count": 25,
     "metadata": {},
     "output_type": "execute_result"
    }
   ],
   "source": [
    "duplicados_netflix=netflix_df.duplicated(subset = lista)\n",
    "duplicados_netflix.unique()\n",
    "#luego ninguno tenia duplicados sin tomar en cuenta el 'Show_id'"
   ]
  },
  {
   "cell_type": "code",
   "execution_count": 26,
   "metadata": {},
   "outputs": [
    {
     "data": {
      "text/plain": [
       "array([False])"
      ]
     },
     "execution_count": 26,
     "metadata": {},
     "output_type": "execute_result"
    }
   ],
   "source": [
    "#me fijo si hay duplicados en la columna title, para todos los datasets:\n",
    "duplicados_disney=disney_df.duplicated(subset = 'title')\n",
    "duplicados_disney.unique()"
   ]
  },
  {
   "cell_type": "code",
   "execution_count": 27,
   "metadata": {},
   "outputs": [
    {
     "data": {
      "text/plain": [
       "array([False])"
      ]
     },
     "execution_count": 27,
     "metadata": {},
     "output_type": "execute_result"
    }
   ],
   "source": [
    "duplicados_amazon=amazon_df.duplicated(subset = 'title')\n",
    "duplicados_amazon.unique()"
   ]
  },
  {
   "cell_type": "code",
   "execution_count": 28,
   "metadata": {},
   "outputs": [
    {
     "data": {
      "text/plain": [
       "array([False])"
      ]
     },
     "execution_count": 28,
     "metadata": {},
     "output_type": "execute_result"
    }
   ],
   "source": [
    "duplicados_hulu=hulu_df.duplicated(subset = 'title')\n",
    "duplicados_hulu.unique()"
   ]
  },
  {
   "cell_type": "code",
   "execution_count": 29,
   "metadata": {},
   "outputs": [
    {
     "data": {
      "text/plain": [
       "array([False])"
      ]
     },
     "execution_count": 29,
     "metadata": {},
     "output_type": "execute_result"
    }
   ],
   "source": [
    "duplicados_netflix=netflix_df.duplicated(subset = 'title')\n",
    "duplicados_netflix.unique()\n",
    "#listo, no se repiten los titulos, DENTRO DE CADA PLATAFORMA."
   ]
  },
  {
   "cell_type": "code",
   "execution_count": 30,
   "metadata": {},
   "outputs": [
    {
     "data": {
      "text/plain": [
       "1"
      ]
     },
     "execution_count": 30,
     "metadata": {},
     "output_type": "execute_result"
    }
   ],
   "source": [
    "#convierto la col 'cast' de hulu_df a str, y checkeo si efectivamente son todos nulos: (en realidad ya lo sabia por el .info() mas arriba !!)\n",
    "len(hulu_df.cast.unique()) #me da 1, por lo tanto son todos nulos. "
   ]
  },
  {
   "cell_type": "code",
   "execution_count": 31,
   "metadata": {},
   "outputs": [],
   "source": [
    "\n",
    "hulu_df = hulu_df.astype({'cast': str})\n"
   ]
  },
  {
   "cell_type": "code",
   "execution_count": 32,
   "metadata": {},
   "outputs": [
    {
     "name": "stdout",
     "output_type": "stream",
     "text": [
      "<class 'pandas.core.frame.DataFrame'>\n",
      "RangeIndex: 3073 entries, 0 to 3072\n",
      "Data columns (total 12 columns):\n",
      " #   Column        Non-Null Count  Dtype \n",
      "---  ------        --------------  ----- \n",
      " 0   show_id       3073 non-null   object\n",
      " 1   type          3073 non-null   object\n",
      " 2   title         3073 non-null   object\n",
      " 3   director      3 non-null      object\n",
      " 4   cast          3073 non-null   object\n",
      " 5   country       1620 non-null   object\n",
      " 6   date_added    3045 non-null   object\n",
      " 7   release_year  3073 non-null   int64 \n",
      " 8   rating        2553 non-null   object\n",
      " 9   duration      2594 non-null   object\n",
      " 10  listed_in     3073 non-null   object\n",
      " 11  description   3069 non-null   object\n",
      "dtypes: int64(1), object(11)\n",
      "memory usage: 288.2+ KB\n"
     ]
    }
   ],
   "source": [
    "hulu_df.info()"
   ]
  },
  {
   "cell_type": "code",
   "execution_count": 33,
   "metadata": {},
   "outputs": [
    {
     "name": "stdout",
     "output_type": "stream",
     "text": [
      "['nan']\n"
     ]
    }
   ],
   "source": [
    "print(hulu_df.cast.unique())\n",
    "#lo q si q ahora paso de nulos a 'nan' pero son strings.... \n"
   ]
  },
  {
   "cell_type": "code",
   "execution_count": 34,
   "metadata": {},
   "outputs": [],
   "source": [
    "# remplazo por pd.Na:\n",
    "hulu_df.cast=hulu_df.cast.replace('nan', pd.NA) #puede que no sea tan necesario esto. "
   ]
  },
  {
   "cell_type": "code",
   "execution_count": 35,
   "metadata": {},
   "outputs": [
    {
     "name": "stdout",
     "output_type": "stream",
     "text": [
      "['Movie' 'TV Show']\n",
      "['Movie' 'TV Show']\n",
      "['Movie' 'TV Show']\n",
      "['Movie' 'TV Show']\n"
     ]
    }
   ],
   "source": [
    "#checkeo a ver si hay algun otro tipo en 'type':\n",
    "print(amazon_df.type.unique())\n",
    "print(disney_df.type.unique())\n",
    "print(hulu_df.type.unique())\n",
    "print(netflix_df.type.unique())\n",
    "# bien!, nada raro. "
   ]
  },
  {
   "cell_type": "code",
   "execution_count": 36,
   "metadata": {},
   "outputs": [],
   "source": [
    "#obs: por ahora no dropeo nada, ni borro ni modifico nulos. \n",
    "# columnas q me sirven para las consultas: duration, type, linted_in y cast.\n",
    "# columnas que NO ME SIRVEN: director, country, rating, description. \n",
    "# una vez concatenadas, las podria droppear todas las q no necesito. probablemente ni haga falta ya q no son pesadas.  "
   ]
  },
  {
   "cell_type": "markdown",
   "metadata": {},
   "source": [
    "REALIZO los cambios necesarios para poder concatenar los 4 dataframes:"
   ]
  },
  {
   "cell_type": "code",
   "execution_count": 37,
   "metadata": {},
   "outputs": [],
   "source": [
    "#primero tengo que diferenciarlos por plataforma (por como son las consultas, mejor agrego una columna especifica), \n",
    "# y ver si les hago un id diferente, pues se pisan!! ya que por ej. todos empiezan en 's1'...)\n",
    "amazon_df['platform']=['amazon' for i in range(0,amazon_df.shape[0])] #hacia falta el list compreh o simplemente podia poner: ' ='amazon' '?\n",
    "disney_df['platform']=['disney' for i in range(0,disney_df.shape[0])]\n",
    "hulu_df['platform']=['hulu' for i in range(0,hulu_df.shape[0])]\n",
    "netflix_df['platform']=['netflix' for i in range(0,netflix_df.shape[0])]\n",
    "\n"
   ]
  },
  {
   "cell_type": "code",
   "execution_count": 38,
   "metadata": {},
   "outputs": [],
   "source": [
    "#diferencio los show_id, simplemente le agrego la letra al final referenciando la plataforma,\n",
    "#A=amazon, D=disney, H=hulu, N=netflix.\n",
    "amazon_df['show_id'] = 'A' + amazon_df['show_id'].astype(str)"
   ]
  },
  {
   "cell_type": "code",
   "execution_count": 39,
   "metadata": {},
   "outputs": [],
   "source": [
    "#funciona OK, asiq lo hago con el resto:\n",
    "disney_df['show_id'] = 'D' + disney_df['show_id'].astype(str)\n",
    "hulu_df['show_id'] = 'H' + hulu_df['show_id'].astype(str)\n",
    "netflix_df['show_id'] = 'N' + netflix_df['show_id'].astype(str)"
   ]
  },
  {
   "cell_type": "code",
   "execution_count": 40,
   "metadata": {},
   "outputs": [],
   "source": [
    "# CONCATENO: \n",
    "#(luego este df seria al que la API le hace los request/GET...?)\n",
    "all_df = pd.concat([amazon_df, disney_df, hulu_df, netflix_df], axis=0) #axis=0 para q sea por filas, igual es default!\n"
   ]
  },
  {
   "cell_type": "code",
   "execution_count": 41,
   "metadata": {},
   "outputs": [],
   "source": [
    "#reindexo!:\n",
    "all_df.reset_index(drop=True, inplace=True)"
   ]
  },
  {
   "cell_type": "code",
   "execution_count": 42,
   "metadata": {},
   "outputs": [
    {
     "data": {
      "text/plain": [
       "RangeIndex(start=0, stop=22998, step=1)"
      ]
     },
     "execution_count": 42,
     "metadata": {},
     "output_type": "execute_result"
    }
   ],
   "source": [
    "all_df.index"
   ]
  },
  {
   "cell_type": "code",
   "execution_count": 43,
   "metadata": {},
   "outputs": [
    {
     "data": {
      "text/plain": [
       "False    22115\n",
       "True       883\n",
       "dtype: int64"
      ]
     },
     "execution_count": 43,
     "metadata": {},
     "output_type": "execute_result"
    }
   ],
   "source": [
    "#veo si se repiten los 'title' entre plataformas: \n",
    "duplicados_all=all_df.duplicated(subset = 'title')\n",
    "duplicados_all.unique() #si!\n",
    "duplicados_all.value_counts()\n",
    "# sale q hay 883 Trues, osea duplicados en general de titulos. dependiendo la consulta, habra q tenerlo en cuenta o no..."
   ]
  },
  {
   "cell_type": "code",
   "execution_count": 44,
   "metadata": {},
   "outputs": [],
   "source": [
    "#probablemente, mas adelante, al formular consultas, necesite hacer MAS TRANSFORMACION de datos..!!\n",
    "#NOTAS sobre ETL:\n",
    "# 'title' en amazon tiene muchos raaaaros. pasarlos a NA???\n",
    "#SEPARAR COLUMNA 'duration' para poder operarla!(funcion 3)"
   ]
  },
  {
   "cell_type": "markdown",
   "metadata": {},
   "source": [
    "Armo las funciones (DESPUES LAS PASO AL main.py) :\n"
   ]
  },
  {
   "cell_type": "code",
   "execution_count": 45,
   "metadata": {},
   "outputs": [],
   "source": [
    "#1. Cantidad de veces que se repite un género y plataforma con mayor frecuencia del mismo\n",
    "def get_listedin(genero): \n",
    "    # if genero not in all_df.listed_in.values ...return....o seria levantando un HTTPException \n",
    "    #para cada plataforma, calculo el numero para el genero:\n",
    "    a=all_df[all_df['listed_in'].str.contains(genero) & (all_df['platform']=='amazon')].shape[0]\n",
    "    d=all_df[all_df['listed_in'].str.contains(genero) & (all_df['platform']=='disney')].shape[0]\n",
    "    h=all_df[all_df['listed_in'].str.contains(genero) & (all_df['platform']=='hulu')].shape[0]\n",
    "    n=all_df[all_df['listed_in'].str.contains(genero) & (all_df['platform']=='netflix')].shape[0]\n",
    "    #le tomo el maximo:\n",
    "    m= max(a,d,h,n) #si aumentase el # de plataformas, recorro una lista con un for....\n",
    "    if m==a:   #ver manera mas linda/corta de elegir la plat?\n",
    "        plat='amazon'\n",
    "    elif m==d:\n",
    "        plat='disney'\n",
    "    elif m==h:\n",
    "        plat='hulu'\n",
    "    else: \n",
    "        plat='netflix' \n",
    "    #faltaria ver si en algun caso da el mismo numero para alguna! una lista [a d h n] y ver si .unique() da menor que len(lista)?\n",
    "    return f'el genero {genero} se repite con mayor frecuencia en la plataforma {plat} . Se repite {m} veces.'"
   ]
  },
  {
   "cell_type": "code",
   "execution_count": 46,
   "metadata": {},
   "outputs": [
    {
     "data": {
      "text/plain": [
       "'el genero Comedy se repite con mayor frecuencia en la plataforma amazon . Se repite 2099 veces.'"
      ]
     },
     "execution_count": 46,
     "metadata": {},
     "output_type": "execute_result"
    }
   ],
   "source": [
    "get_listedin('Comedy') #chequeo q la rta sea 2099: OK."
   ]
  },
  {
   "cell_type": "code",
   "execution_count": 47,
   "metadata": {},
   "outputs": [],
   "source": [
    "#2. Cantidad de películas y series (separado) por plataforma\n",
    "def get_count_platform(plataforma):\n",
    "    #if plataforma not in ['amazon', 'disney', 'hulu', 'netflix']..return   ingrese alguna de estas [lista platafs]'...\n",
    "    #calculo el numero para 'TV Show' y para 'Movie':\n",
    "    tv=all_df[(all_df['type']=='TV Show') & (all_df['platform']==plataforma)].shape[0]\n",
    "    movie=all_df[(all_df['type']=='Movie') & (all_df['platform']==plataforma)].shape[0]\n",
    "    return f'{plataforma} tiene {tv} TV Shows y {movie} Movies'"
   ]
  },
  {
   "cell_type": "code",
   "execution_count": 48,
   "metadata": {},
   "outputs": [
    {
     "data": {
      "text/plain": [
       "'netflix tiene 2676 TV Shows y 6131 Movies'"
      ]
     },
     "execution_count": 48,
     "metadata": {},
     "output_type": "execute_result"
    }
   ],
   "source": [
    "get_count_platform('netflix') #resultado esta OK!"
   ]
  },
  {
   "cell_type": "code",
   "execution_count": 49,
   "metadata": {},
   "outputs": [
    {
     "data": {
      "text/plain": [
       "array(['Movie', 'TV Show'], dtype=object)"
      ]
     },
     "execution_count": 49,
     "metadata": {},
     "output_type": "execute_result"
    }
   ],
   "source": [
    "all_df.type.unique() # chequeo que esta OK haberme guiado solo por estos dos tipos."
   ]
  },
  {
   "cell_type": "code",
   "execution_count": 50,
   "metadata": {},
   "outputs": [
    {
     "data": {
      "text/html": [
       "<div>\n",
       "<style scoped>\n",
       "    .dataframe tbody tr th:only-of-type {\n",
       "        vertical-align: middle;\n",
       "    }\n",
       "\n",
       "    .dataframe tbody tr th {\n",
       "        vertical-align: top;\n",
       "    }\n",
       "\n",
       "    .dataframe thead th {\n",
       "        text-align: right;\n",
       "    }\n",
       "</style>\n",
       "<table border=\"1\" class=\"dataframe\">\n",
       "  <thead>\n",
       "    <tr style=\"text-align: right;\">\n",
       "      <th></th>\n",
       "      <th>show_id</th>\n",
       "      <th>type</th>\n",
       "      <th>title</th>\n",
       "      <th>director</th>\n",
       "      <th>cast</th>\n",
       "      <th>country</th>\n",
       "      <th>date_added</th>\n",
       "      <th>release_year</th>\n",
       "      <th>rating</th>\n",
       "      <th>duration</th>\n",
       "      <th>listed_in</th>\n",
       "      <th>description</th>\n",
       "      <th>platform</th>\n",
       "    </tr>\n",
       "  </thead>\n",
       "  <tbody>\n",
       "    <tr>\n",
       "      <th>0</th>\n",
       "      <td>As1</td>\n",
       "      <td>Movie</td>\n",
       "      <td>The Grand Seduction</td>\n",
       "      <td>Don McKellar</td>\n",
       "      <td>Brendan Gleeson, Taylor Kitsch, Gordon Pinsent</td>\n",
       "      <td>Canada</td>\n",
       "      <td>March 30, 2021</td>\n",
       "      <td>2014</td>\n",
       "      <td>NaN</td>\n",
       "      <td>113 min</td>\n",
       "      <td>Comedy, Drama</td>\n",
       "      <td>A small fishing village must procure a local d...</td>\n",
       "      <td>amazon</td>\n",
       "    </tr>\n",
       "    <tr>\n",
       "      <th>1</th>\n",
       "      <td>As2</td>\n",
       "      <td>Movie</td>\n",
       "      <td>Take Care Good Night</td>\n",
       "      <td>Girish Joshi</td>\n",
       "      <td>Mahesh Manjrekar, Abhay Mahajan, Sachin Khedekar</td>\n",
       "      <td>India</td>\n",
       "      <td>March 30, 2021</td>\n",
       "      <td>2018</td>\n",
       "      <td>13+</td>\n",
       "      <td>110 min</td>\n",
       "      <td>Drama, International</td>\n",
       "      <td>A Metro Family decides to fight a Cyber Crimin...</td>\n",
       "      <td>amazon</td>\n",
       "    </tr>\n",
       "    <tr>\n",
       "      <th>2</th>\n",
       "      <td>As3</td>\n",
       "      <td>Movie</td>\n",
       "      <td>Secrets of Deception</td>\n",
       "      <td>Josh Webber</td>\n",
       "      <td>Tom Sizemore, Lorenzo Lamas, Robert LaSardo, R...</td>\n",
       "      <td>United States</td>\n",
       "      <td>March 30, 2021</td>\n",
       "      <td>2017</td>\n",
       "      <td>NaN</td>\n",
       "      <td>74 min</td>\n",
       "      <td>Action, Drama, Suspense</td>\n",
       "      <td>After a man discovers his wife is cheating on ...</td>\n",
       "      <td>amazon</td>\n",
       "    </tr>\n",
       "    <tr>\n",
       "      <th>3</th>\n",
       "      <td>As4</td>\n",
       "      <td>Movie</td>\n",
       "      <td>Pink: Staying True</td>\n",
       "      <td>Sonia Anderson</td>\n",
       "      <td>Interviews with: Pink, Adele, Beyoncé, Britney...</td>\n",
       "      <td>United States</td>\n",
       "      <td>March 30, 2021</td>\n",
       "      <td>2014</td>\n",
       "      <td>NaN</td>\n",
       "      <td>69 min</td>\n",
       "      <td>Documentary</td>\n",
       "      <td>Pink breaks the mold once again, bringing her ...</td>\n",
       "      <td>amazon</td>\n",
       "    </tr>\n",
       "    <tr>\n",
       "      <th>4</th>\n",
       "      <td>As5</td>\n",
       "      <td>Movie</td>\n",
       "      <td>Monster Maker</td>\n",
       "      <td>Giles Foster</td>\n",
       "      <td>Harry Dean Stanton, Kieran O'Brien, George Cos...</td>\n",
       "      <td>United Kingdom</td>\n",
       "      <td>March 30, 2021</td>\n",
       "      <td>1989</td>\n",
       "      <td>NaN</td>\n",
       "      <td>45 min</td>\n",
       "      <td>Drama, Fantasy</td>\n",
       "      <td>Teenage Matt Banting wants to work with a famo...</td>\n",
       "      <td>amazon</td>\n",
       "    </tr>\n",
       "  </tbody>\n",
       "</table>\n",
       "</div>"
      ],
      "text/plain": [
       "  show_id   type                 title        director  \\\n",
       "0     As1  Movie   The Grand Seduction    Don McKellar   \n",
       "1     As2  Movie  Take Care Good Night    Girish Joshi   \n",
       "2     As3  Movie  Secrets of Deception     Josh Webber   \n",
       "3     As4  Movie    Pink: Staying True  Sonia Anderson   \n",
       "4     As5  Movie         Monster Maker    Giles Foster   \n",
       "\n",
       "                                                cast         country  \\\n",
       "0     Brendan Gleeson, Taylor Kitsch, Gordon Pinsent          Canada   \n",
       "1   Mahesh Manjrekar, Abhay Mahajan, Sachin Khedekar           India   \n",
       "2  Tom Sizemore, Lorenzo Lamas, Robert LaSardo, R...   United States   \n",
       "3  Interviews with: Pink, Adele, Beyoncé, Britney...   United States   \n",
       "4  Harry Dean Stanton, Kieran O'Brien, George Cos...  United Kingdom   \n",
       "\n",
       "       date_added  release_year rating duration                listed_in  \\\n",
       "0  March 30, 2021          2014    NaN  113 min            Comedy, Drama   \n",
       "1  March 30, 2021          2018    13+  110 min     Drama, International   \n",
       "2  March 30, 2021          2017    NaN   74 min  Action, Drama, Suspense   \n",
       "3  March 30, 2021          2014    NaN   69 min              Documentary   \n",
       "4  March 30, 2021          1989    NaN   45 min           Drama, Fantasy   \n",
       "\n",
       "                                         description platform  \n",
       "0  A small fishing village must procure a local d...   amazon  \n",
       "1  A Metro Family decides to fight a Cyber Crimin...   amazon  \n",
       "2  After a man discovers his wife is cheating on ...   amazon  \n",
       "3  Pink breaks the mold once again, bringing her ...   amazon  \n",
       "4  Teenage Matt Banting wants to work with a famo...   amazon  "
      ]
     },
     "execution_count": 50,
     "metadata": {},
     "output_type": "execute_result"
    }
   ],
   "source": [
    "all_df.head()\n"
   ]
  },
  {
   "cell_type": "code",
   "execution_count": 51,
   "metadata": {},
   "outputs": [],
   "source": [
    "#3. Funcion duracion maxima por tipo, anio y plataforma:\n",
    "# RTA CORRECTA PARA: get_max_duration(2018,'hulu','min'), titulo: \"the house that jack built\".\n",
    "def get_max_duration(anio:int, plataforma:str, duration:str): #aclarar luego duration in ['min', 'season'].\n",
    "    #separo en casos para 'duration':\n",
    "    if duration =='min':\n",
    "        #filtro segun type=Movie, anio y plataforma:\n",
    "        dur_movie = all_df[(all_df['type']=='Movie') & (all_df['platform']==plataforma) & (all_df['release_year']==anio)]\n",
    "        serie = dur_movie.duration.str.strip('min')  #le saco el 'min'\n",
    "        serie.dropna(inplace=True)     #tiro nulos para poder pasar todo a int (sino chilla).\n",
    "        serie=serie.astype(int)        #lo paso a int. \n",
    "        max_ind = serie.idxmax() #indice del max_val. OJO me devuelve el 1er INDICE. tendria q luego buscar TODOS los indices con el max_val!!\n",
    "        max_val = serie.max() #maximo valor. \n",
    "        #titulo=dur_movie.title.loc[max_ind] #agregue el for asiq ya no necesito esto, lo dejo por las dudas que el for rompa...\n",
    "        #busco todos las filas tq tienen el valor maximo:\n",
    "        ind=serie[serie==max_val].index #me da un typeIndex con el (o los) indices para el max. \n",
    "        #lo recorro guardando los titulos:(calculo q casi siempre sera uno solo o pocos asiq este for no hace mucho)\n",
    "        titulos=[]\n",
    "        for i in ind:\n",
    "            titulos.append(dur_movie.title.loc[i])\n",
    "        return f'duracion maxima para \"Movie\" en el anio {anio}, en {plataforma} es de {max_val} minutos, para el/los titulos: {titulos}.' #estaria bueno sacarle los '[]' asi queda mas lindo...escape character?\n",
    "\n",
    "    #ahora misma cosa pero para 'TV Show':\n",
    "    if duration=='season':\n",
    "        dur_TV_Show=all_df[(all_df['type']=='TV Show') & (all_df['platform']==plataforma) & (all_df['release_year']==anio)]\n",
    "        serie = dur_TV_Show.duration.str.strip('Seasons')  #le saco el 'Seasons', con lo cual tmb le saco 'Season'\n",
    "        serie.dropna(inplace=True)     \n",
    "        serie=serie.astype(int)   \n",
    "        max_ind = serie.idxmax() #indice del max_val. OJO me devuelve el 1er INDICE. tendria q luego buscar TODOS los indices con el max_val!!\n",
    "        max_val = serie.max() #maximo valor. \n",
    "        #titulo=dur_movie.title.loc[max_ind] #agregue el for asiq ya no necesito esto, lo dejo por las dudas que el for rompa...\n",
    "        #busco todos las filas tq tienen el valor maximo:\n",
    "        ind=serie[serie==max_val].index #me da un typeIndex con el (o los) indices para el max. \n",
    "        #lo recorro guardando los titulos:(calculo q casi siempre sera uno solo o pocos asiq este for no hace mucho)\n",
    "        titulos=[]\n",
    "        for i in ind:\n",
    "            titulos.append(dur_TV_Show.title.loc[i])\n",
    "        return f'duracion maxima para \"TV Show\" en el anio {anio}, en {plataforma} es de {max_val} temporadas, para el/los titulos: {titulos}.' \n",
    "\n",
    "    else:    \n",
    "        return 'tercer parametro debe ser \"min\" o \"season\".'\n"
   ]
  },
  {
   "cell_type": "code",
   "execution_count": 52,
   "metadata": {},
   "outputs": [
    {
     "data": {
      "text/plain": [
       "'duracion maxima para \"Movie\" en el anio 2018, en hulu es de 151 minutos, para el/los titulos: [\\'The House That Jack Built\\'].'"
      ]
     },
     "execution_count": 52,
     "metadata": {},
     "output_type": "execute_result"
    }
   ],
   "source": [
    "#pruebo la funcion para los parametros q se la rta esperada:\n",
    "get_max_duration(2018,'hulu', 'min')\n",
    "# OK!!!"
   ]
  },
  {
   "cell_type": "code",
   "execution_count": 53,
   "metadata": {},
   "outputs": [
    {
     "data": {
      "text/plain": [
       "'duracion maxima para \"TV Show\" en el anio 2018, en hulu es de 6 temporadas, para el/los titulos: [\\'When Sharks Attack\\'].'"
      ]
     },
     "execution_count": 53,
     "metadata": {},
     "output_type": "execute_result"
    }
   ],
   "source": [
    "get_max_duration(2018,'hulu', 'season')\n"
   ]
  },
  {
   "cell_type": "code",
   "execution_count": 54,
   "metadata": {},
   "outputs": [
    {
     "data": {
      "text/plain": [
       "'duracion maxima para \"TV Show\" en el anio 2017, en disney es de 4 temporadas, para el/los titulos: [\\'Drain the Oceans\\', \\'Secrets Of The Zoo\\', \\'Marvel Super Hero Adventures\\'].'"
      ]
     },
     "execution_count": 54,
     "metadata": {},
     "output_type": "execute_result"
    }
   ],
   "source": [
    "#para estos SI la respuesta es mas de uno, osea, valio la pena. faltaria escapar las []//... igual se entiende.\n",
    "get_max_duration(2017, 'disney', 'season')"
   ]
  },
  {
   "cell_type": "code",
   "execution_count": 55,
   "metadata": {},
   "outputs": [
    {
     "data": {
      "text/plain": [
       "array(['1 Season', '3 Seasons', '2 Seasons', '4 Seasons', '7 Seasons',\n",
       "       '9 Seasons', '6 Seasons', '5 Seasons', '29 Seasons', '19 Seasons',\n",
       "       '21 Seasons', '8 Seasons', '12 Seasons', '11 Seasons',\n",
       "       '10 Seasons', '14 Seasons', '15 Seasons', '32 Seasons',\n",
       "       '16 Seasons', '23 Seasons', '20 Seasons', '13 Seasons',\n",
       "       '17 Seasons', '30 Seasons', '22 Seasons', '25 Seasons',\n",
       "       '34 Seasons', '26 Seasons'], dtype=object)"
      ]
     },
     "execution_count": 55,
     "metadata": {},
     "output_type": "execute_result"
    }
   ],
   "source": [
    "#checkeo que no tenga rarezas para los campos duration de TV Show:\n",
    "all_df[all_df['type']=='TV Show'].duration.unique()\n",
    "# OK, luego solo con hacer un str.strip('Seasons') ya me sirve. "
   ]
  },
  {
   "cell_type": "code",
   "execution_count": 56,
   "metadata": {},
   "outputs": [],
   "source": [
    "#pruebo con el ejemplo q ya tengo la respuesta, para desarrollar la funcion y poder evaluar el rsltd:\n",
    "dur_movie=all_df[(all_df['type']=='Movie') & (all_df['platform']=='hulu') & (all_df['release_year']==2018)]\n"
   ]
  },
  {
   "cell_type": "code",
   "execution_count": 57,
   "metadata": {},
   "outputs": [],
   "source": [
    "#trabajo con una copia:\n",
    "serie=dur_movie.copy()"
   ]
  },
  {
   "cell_type": "code",
   "execution_count": 58,
   "metadata": {},
   "outputs": [],
   "source": [
    "#ahora trabajo en la columna duration:\n",
    "#le saco el 'min':\n",
    "serie=serie.duration.str.strip('min')   \n"
   ]
  },
  {
   "cell_type": "code",
   "execution_count": 61,
   "metadata": {},
   "outputs": [
    {
     "data": {
      "text/plain": [
       "'The House That Jack Built'"
      ]
     },
     "execution_count": 61,
     "metadata": {},
     "output_type": "execute_result"
    }
   ],
   "source": [
    "#checkeo a ver si me da la respuesta esperada:\n",
    "dur_movie.title.loc[12660] #ya me habia dado el index en otra celda que borre.\n",
    "#SI!!"
   ]
  },
  {
   "cell_type": "code",
   "execution_count": 62,
   "metadata": {},
   "outputs": [],
   "source": [
    "#4. Actor que más se repite según plataforma y año:\n",
    "def get_actor(plataforma, anio):\n",
    "    #para plataforma==hulu, son todos None..luego salvo esa opcion:\n",
    "    if plataforma=='hulu':\n",
    "        return 'Informacion no disponible para plataforma hulu.'\n",
    "    else:\n",
    "        #if type(anio)!= int:        return 'anio debe ser un numero entero'    else... #esto lo puedo meter como HTPException mejor..\n",
    "        data=all_df[(all_df['release_year']==anio) & (all_df['platform']==plataforma)] #filtro por los argumentos.\n",
    "        serie=data.cast\n",
    "        # separo por 'terminos' separados por coma, y los meto en la lista 'actores':\n",
    "        actores=[]\n",
    "        #serie.reset_index(drop=True, inplace=True) #NO HACIA FALTA pues al pasarla a lista se reindexa...\n",
    "        serie=list(serie) #convierto a lista y la recorro:\n",
    "        for i in range(0,len(serie)):\n",
    "            if ',' not in str(serie[i]): #ie, si es un solo nombre (o son varios pero sin coma, lo tomo como uno solo, anda mal en algunos casos, peeero, si uso tipo regex (str.contains()) anda igual, y sino, igual no son muchos)\n",
    "             actores.append(serie[i]) #NOTAR: son solo 49 las expresiones de .cast con mas de 3 palabras!. asiq no es mucho, casi q lo podria normalizar a mano...\n",
    "            else:\n",
    "                sep=str(serie[i]).split(\",\") #los separo en una serie, y nuevamente los agrego de a uno a actores. ME CHILLA SIN EL str(). x no converir el type de la columna?\n",
    "                for j in range(0,len(sep)):\n",
    "                    actores.append(sep[j])                 \n",
    "    #AHORA 'actores' es una lista con todos los actores, ya filtrado por ese anio y plataforma.\n",
    "    #resta ver cual se repite mas y cuantas veces. \n",
    "        actores=pd.Series(actores)\n",
    "        actores.value_counts()\n",
    "        winner=actores.value_counts().index[0]\n",
    "        cantidad=actores.value_counts()[0]\n",
    "\n",
    "        #hay q ver si son varios actores con el mismo count:\n",
    "        k=1\n",
    "        ganadores=[winner]\n",
    "        while actores.value_counts()[k]==cantidad:\n",
    "            ganadores.append(actores.value_counts().index[k])\n",
    "            k+=1\n",
    "        if k==1:\n",
    "            return f'actor que mas se repite: {winner}, aparece {cantidad} veces.'\n",
    "        else:\n",
    "            return f'actores que mas se repiten: {ganadores}, aparecen {cantidad} veces.'"
   ]
  },
  {
   "cell_type": "code",
   "execution_count": 63,
   "metadata": {},
   "outputs": [
    {
     "data": {
      "text/plain": [
       "'actor que mas se repite:   Ph.D., aparece 18 veces.'"
      ]
     },
     "execution_count": 63,
     "metadata": {},
     "output_type": "execute_result"
    }
   ],
   "source": [
    "get_actor('amazon', 2019)\n",
    "# hay q buscar Ph.D para ver si es un nombre o solo denominacion! "
   ]
  },
  {
   "cell_type": "code",
   "execution_count": 64,
   "metadata": {},
   "outputs": [
    {
     "data": {
      "text/plain": [
       " Andrea Libman          8\n",
       " Takahiro Sakurai       6\n",
       " Vincent Tong           6\n",
       " Rupa Bhimani           6\n",
       " Tabitha St. Germain    6\n",
       "                       ..\n",
       " Hamad Ashkanani        1\n",
       " Noor Alghandour        1\n",
       " Mohammed Alalawi       1\n",
       " Shujoon                1\n",
       " Revathi Pillai         1\n",
       "Length: 6825, dtype: int64"
      ]
     },
     "execution_count": 64,
     "metadata": {},
     "output_type": "execute_result"
    }
   ],
   "source": [
    "#pruebo desarrollarla para 'netflix en 2018': \n",
    "\n",
    "data=all_df[(all_df['release_year']==2018) & (all_df['platform']=='netflix')] #filtro por los argumentos.\n",
    "serie=data.cast\n",
    "\n",
    "# separo por 'terminos' separados por coma, y los meto en la lista 'actores':\n",
    "actores=[]\n",
    "#serie.reset_index(drop=True, inplace=True) #NO HACIA FALTA pues al pasarla a lista se reindexa...\n",
    "serie=list(serie) #convierto a lista y la recorro:\n",
    "for i in range(0,len(serie)):\n",
    "    if ',' not in str(serie[i]): #ie, si es un solo nombre (o son varios pero sin coma, lo tomo como uno solo, anda mal en algunos casos, peeero, si uso tipo regex (str.contains()) anda igual, y sino, igual no son muchos)\n",
    "        actores.append(serie[i]) #NOTAR: son solo 49 las expresiones de .cast con mas de 3 palabras!. asiq no es mucho, casi q lo podria normalizar a mano...\n",
    "    else:\n",
    "        sep=str(serie[i]).split(\",\") #los separo en una serie, y nuevamente los agrego de a uno a actores. ME CHILLA SIN EL str(). x no converir el type de la columna?\n",
    "        for j in range(0,len(sep)):\n",
    "            actores.append(sep[j])                 \n",
    "#AHORA 'actores' es una lista con todos los actores, ya filtrado por ese anio y plataforma.\n",
    "#resta ver cual se repite mas y cuantas veces. \n",
    "# OJO: podria usar la funcion 'contains' o regex , para salvar los 'cast' que no hayan estado separados por ','??? igual ya me fije mas abajo, son pocos!\n",
    "actores=pd.Series(actores)\n",
    "actores.value_counts() \n",
    "# me da Andrea Libman, 8  para netflix 2018, OSEA PARECE QUE ESTA BIEN!!\n",
    "            #PERO, puedo probar todas las entradas (plataformas y anios), para normalizar mas campos si se vean ambiguos.\n",
    "\n"
   ]
  },
  {
   "cell_type": "code",
   "execution_count": 65,
   "metadata": {},
   "outputs": [
    {
     "data": {
      "text/plain": [
       "pandas.core.series.Series"
      ]
     },
     "execution_count": 65,
     "metadata": {},
     "output_type": "execute_result"
    }
   ],
   "source": [
    "type(actores.value_counts())"
   ]
  },
  {
   "cell_type": "code",
   "execution_count": 66,
   "metadata": {},
   "outputs": [
    {
     "name": "stdout",
     "output_type": "stream",
     "text": [
      " Andrea Libman\n",
      "8\n"
     ]
    }
   ],
   "source": [
    "#COMO RETORNO EL VALOR EN MI FUNCION: en principio solo me pide el actor, no las veces q se repite. \n",
    "print(actores.value_counts().index[0])\n",
    "print(actores.value_counts()[0])\n",
    "#hay que agregar un if, por las dudas de q sean varios con el mismo count!"
   ]
  },
  {
   "cell_type": "markdown",
   "metadata": {},
   "source": [
    "Busco a ver cuantos .cast  NO estan separados por coma, y tienen mas de 3 palabras, intentando dar con los que podrian ser mas de un nombre."
   ]
  },
  {
   "cell_type": "code",
   "execution_count": 67,
   "metadata": {},
   "outputs": [],
   "source": [
    "#extraigo este bloque del prototipo de mi funcion: \n",
    "castas=list(all_df.cast) #lista de la column a 'cast'\n",
    "\n",
    "actores=[]\n",
    "for i in range(0,len(castas)):\n",
    "    if ',' not in str(castas[i]): #ie, si es un solo nombre (o son varios pero sin coma, lo tomo como uno solo, anda mal en algunos casos, peeero, si uso tipo regex (str.contains()) anda igual, y sino, igual no son muchos)\n",
    "        actores.append(castas[i])\n"
   ]
  },
  {
   "cell_type": "code",
   "execution_count": 68,
   "metadata": {},
   "outputs": [
    {
     "name": "stdout",
     "output_type": "stream",
     "text": [
      "['Narrator - Gillian Barlett', 'Dr Daniel J Nightingale', 'Shinba Tsuchiya | Ayane Sakura | Nobuhiko Okamoto | Kentaro Tomita | Sumire Morohoshi', 'Dr. Charles Russell Severance', 'Narrated by Allison Argo', 'Dr Daniel J Nightingale', 'Dr. Venus Opal Reese', 'Narrator - Paul Roberts', 'Elvira Mistress of Dark', 'Dr Daniel J Nightingale', 'General Mark A. Milley', 'Laetitia Casta Jean Paul Rouve Stefano Accorsi', 'Phillipe Torreton Sophie-Charlotte Husson  Julie Gayet', 'Helene de Fourgorelles Tcheky Karyo Pierre Arditi', 'Fiona Gordon Lucy Tulugarjuk Dominique Abel', 'Xavier Beauvois Chiara Mastroianni  Roschdy Zem', 'Denis Podalydes Isabelle Candalier Phillipe Uchan', 'Ray Emodi mike uchegbu Ray Ighodaro chinelo enemchukwu', 'Tooth & Claw Field Staff', 'Derek Dj Noxolo Daphne Jo', 'The GiggleBellies Monster Trucks', 'Kalu Ikeagwu Scarlet Gomez Bukky Thomas', 'Ngozi Nwaneto Frank Echeben Joy Ini', 'Adaeze Eluke Stephen Odimgbe Domben Chisom', 'IKPONMWOSA AIK ODIASE ONAH CHINYERE OKORIE PREACH BASSEY SUNNY WILLIAMS', 'PAUL SAMBO EMPRESS NJAMA IKPONMWOSA AIK ODIASE', 'Dan David Odion Joy Chidi Manuel', 'Tony Goodman Aik Odiase Nazareth Jason', 'Frank Artus Qwasi Blay Jessica Williams', 'COURAGE AKPANIKAN LAMIROSE ALI EBILOMA EMMANUEL', 'John Dumelo Van Vicker Moses Efret Fatima Koroma', 'Francis Duru Paul Sambo Bruno Iwuoha', 'Iyke Ogbonna George Clinting Ngozi Achms', 'Iyke Ogbonna George Clinting Ngozi Achms', 'Tana Adelana Martha Ankomah Seun Akindele', 'Stan Nze Tamara EteimoLinda Osifo', 'John Dumelo Sana Kanu Winstina Taylor', 'Salim Sahid Kamara Phebean Swill Ram Dee', 'Wole Ojo Mary Lazarus Neye Balogun', 'Dr. Albert Yu-Min Lin', 'Larry the Cable Guy', 'Los Tigres del Norte', 'Paco Ignacio Taibo II', 'Paco Ignacio Taibo II', 'Justin \"Alyssa Edwards\" Johnson', 'Sofía Niño de Rivera', 'Sofía Niño de Rivera', 'K.G. Chandani Renuka Ratnayake', 'Paco Ignacio Taibo II']\n",
      "49\n"
     ]
    }
   ],
   "source": [
    "len(actores) \n",
    "#OSEA, todos los q son solos o sin coma pero varios. \n",
    "\n",
    "juntados=[]\n",
    "for actor in actores:\n",
    "    if len(str(actor).split())>3:\n",
    "        juntados.append(actor)\n",
    "print(juntados)\n",
    "print(len(juntados))\n",
    "#len(re.findall(r'\\w+', sentence)) #REGULAR EXPRESIONS!! re."
   ]
  },
  {
   "cell_type": "markdown",
   "metadata": {},
   "source": [
    "viendo esto, hago limpieza para esta col:\n",
    "1. replace | por , ; - por '' ; Narrator, Narrated por '' ; - por '' ; \n",
    "2.\n"
   ]
  },
  {
   "cell_type": "code",
   "execution_count": 69,
   "metadata": {},
   "outputs": [
    {
     "name": "stdout",
     "output_type": "stream",
     "text": [
      "['Shinba Tsuchiya | Ayane Sakura | Nobuhiko Okamoto | Kentaro Tomita | Sumire Morohoshi']\n"
     ]
    }
   ],
   "source": [
    "#me fijo si no hay mas '|' en las q SI estan con ',' :\n",
    "castas=list(all_df.cast) #lista de la column a 'cast'\n",
    "\n",
    "actores=[]\n",
    "for i in range(0,len(castas)):\n",
    "    if '|' in str(castas[i]): #ie, si es un solo nombre (o son varios pero sin coma, lo tomo como uno solo, anda mal en algunos casos, peeero, si uso tipo regex (str.contains()) anda igual, y sino, igual no son muchos)\n",
    "        actores.append(castas[i])\n",
    "len(actores)\n",
    "print(actores)\n",
    "#solo hay una, luego la reemplazo sin problemas. "
   ]
  },
  {
   "cell_type": "code",
   "execution_count": 70,
   "metadata": {},
   "outputs": [],
   "source": [
    "all_df.cast.replace('|',',', inplace=True)"
   ]
  },
  {
   "cell_type": "code",
   "execution_count": 71,
   "metadata": {},
   "outputs": [],
   "source": [
    "all_df.cast.replace('-','', inplace=True)\n",
    "all_df.cast.replace('Narrator','', inplace=True)\n",
    "all_df.cast.replace('Narrated','', inplace=True)"
   ]
  },
  {
   "cell_type": "markdown",
   "metadata": {},
   "source": [
    "LLEGO HASTA ACA CON LA LIMPIEZA PARA LO NECESARIO PARA ESTA FUNCION (la funcion 4). \n",
    "LUEGO SI TENGO MAS TIEMPO, PUEDO BUSCAR e IGUALAR con regex's , por ej: 'Dr. == Dr'"
   ]
  },
  {
   "cell_type": "code",
   "execution_count": 72,
   "metadata": {},
   "outputs": [],
   "source": [
    "#guardo mi dataframe all_df como csv, en la misma carpeta que los otros datasets:\n",
    "all_df.to_csv('Datasets/all_platforms.csv')\n"
   ]
  },
  {
   "cell_type": "code",
   "execution_count": null,
   "metadata": {},
   "outputs": [],
   "source": []
  }
 ],
 "metadata": {
  "kernelspec": {
   "display_name": "Python 3.9.6 64-bit",
   "language": "python",
   "name": "python3"
  },
  "language_info": {
   "codemirror_mode": {
    "name": "ipython",
    "version": 3
   },
   "file_extension": ".py",
   "mimetype": "text/x-python",
   "name": "python",
   "nbconvert_exporter": "python",
   "pygments_lexer": "ipython3",
   "version": "3.9.6"
  },
  "orig_nbformat": 4,
  "vscode": {
   "interpreter": {
    "hash": "31f2aee4e71d21fbe5cf8b01ff0e069b9275f58929596ceb00d14d90e3e16cd6"
   }
  }
 },
 "nbformat": 4,
 "nbformat_minor": 2
}
